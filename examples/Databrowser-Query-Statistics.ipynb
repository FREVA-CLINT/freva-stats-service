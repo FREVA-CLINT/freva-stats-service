{
 "cells": [
  {
   "cell_type": "markdown",
   "id": "e5e3d522-abd4-4d01-af61-c93a34793d94",
   "metadata": {},
   "source": [
    "# User databrowser search queries\n",
    "\n",
    "## Investigating user search queries (``GET``)\n",
    "The ``freva-storage-API`` can be used to get insights on how users use the databrowser and how important/unimportant certain datasets are. The restAPI is designed to make a pre-selection of all the user search queries and do a more in-depth analysis yourself.\n",
    "\n",
    "In this example, we are going to examine the most popular variables of the ``era5`` data project. Information like that can be useful to determine frequently used or at least required datasets. \n",
    "\n",
    "To retrieve this information we are going to use the ``get`` method for the ``api/storage/stats/databrowser`` endpoint of the API. This ``get``method streams a string that is a csv representation of the user query data. This approach was chosen because the csv format can be used to load the data into a dataframe using ``pandas`` or ``dask``. "
   ]
  },
  {
   "cell_type": "code",
   "execution_count": 1,
   "id": "e87cab1e-263e-47eb-abbd-32bfce3238d4",
   "metadata": {
    "editable": true,
    "slideshow": {
     "slide_type": ""
    },
    "tags": [
     "nbval-ignore-output"
    ]
   },
   "outputs": [],
   "source": [
    "%matplotlib inline\n",
    "from tempfile import NamedTemporaryFile\n",
    "import requests\n",
    "from typing import Any\n",
    "import pandas as pd"
   ]
  },
  {
   "cell_type": "markdown",
   "id": "6b5e34f0-32d1-497b-bc1c-672aea4f76cc",
   "metadata": {},
   "source": [
    "Before we start we will have to create a user token, as the data is protected. To do so use the ``post`` method of the ``api/token`` endpoint:\n",
    "\n",
    "```python\n",
    "res = requests.post(\"http://www.my-freva-instance.example.org/api/storage/v2/token\", data={\"username\": \"you_admin_username\", \"password\":\"your_admin_password\"})\n",
    "token = res.json()[\"access-token\"]\n",
    "```\n",
    "\n",
    "After retrieving the token we can use the ```get``` method to search for all queries that were interested in the `era5` experiment. First, define the URL of the freva-storage-API"
   ]
  },
  {
   "cell_type": "code",
   "execution_count": 2,
   "id": "25ace9f3-8c27-494a-b96e-69c8860163ba",
   "metadata": {},
   "outputs": [],
   "source": [
    "url = \"http://0.0.0.0:8080\"\n",
    "token = \"my-token\" # This is only for demo purposes"
   ]
  },
  {
   "cell_type": "markdown",
   "id": "d5515215-cfd7-4408-8a97-6dce2dcf8833",
   "metadata": {},
   "source": [
    "The logic of the get path is ```<URL>/api/storage/stats/<PROJECT_NAME>/databrowser```, where PROJECT_NAME the name of the freva project is where the data is stored. Here we use the name `example-project`. \n",
    "\n",
    "The ``get`` request would be something like the following:\n",
    "\n",
    "```python\n",
    "requests.get(\"http://www.my-freva-instance.example.org/api/storage/stats/example-project/databrowser\", \n",
    "             params={\"experiment\": \"era5\"}, \n",
    "             headers={\"access-token\": token})\n",
    "```\n",
    "\n"
   ]
  },
  {
   "cell_type": "markdown",
   "id": "83f0484b-d9ea-4b01-8e3b-c5053ce605ea",
   "metadata": {},
   "source": [
    "Depending on how the data was filtered this can yield a considerably large data stream. To avoid draining server and client resources we can define a helper\n",
    "function that allows us to store the data in a temporary file and read the data once saved. In the helper function, we use pandas to create the dataframe. If\n",
    "the data might get too big to fit into memory then you could also use ``dask.dataframe`` to load the data chunks. Fortunately, this example is small:"
   ]
  },
  {
   "cell_type": "code",
   "execution_count": 3,
   "id": "d6cad30e-770f-4497-91f4-2cf45751e662",
   "metadata": {},
   "outputs": [],
   "source": [
    "# Function to load CSV data into a Dask DataFrame\n",
    "def load_csv_data(url: str, **kwargs: Any) -> pd.DataFrame:\n",
    "    \"\"\" Function to load CSV data into a pandas DataFrame.\n",
    "\n",
    "    If the data gets too big then we should used dask instead of pandas.\n",
    "\n",
    "    Parameters\n",
    "    ---------\n",
    "    url: str\n",
    "        The url that is passed to the get method.\n",
    "    **kwargs:\n",
    "        Additional arguments passed to the get method\n",
    "\n",
    "    Returns\n",
    "    -------\n",
    "    pandas.DataFrame\n",
    "\n",
    "    Raises\n",
    "    ------\n",
    "    HTTPError: If anything goes wrong.\n",
    "    \"\"\"\n",
    "    # Send a GET request to the URL to retrieve the CSV content in chunks\n",
    "    with requests.get(url, **kwargs, stream=True) as response:\n",
    "        response.raise_for_status()  # Raise an error for non-200 responses\n",
    "        with NamedTemporaryFile(suffix=\".csv\") as temp_file:\n",
    "            with open(temp_file.name, \"wb\") as stream:\n",
    "                for chunk in response.iter_content(chunk_size=8192):  # Adjust chunk size as needed\n",
    "                    stream.write(chunk)\n",
    "            df = pd.read_csv(temp_file.name, index_col=0) # Use dask.dataframe if this get too big\n",
    "            # Convert the date key to actual pandas dates.\n",
    "            df[\"date\"] = pd.DatetimeIndex(df[\"date\"])\n",
    "            return df\n"
   ]
  },
  {
   "cell_type": "code",
   "execution_count": 4,
   "id": "00beced4-ea0c-46ec-8110-caae7c1852cc",
   "metadata": {
    "editable": true,
    "slideshow": {
     "slide_type": ""
    },
    "tags": [
     "nbval-ignore-output"
    ]
   },
   "outputs": [
    {
     "data": {
      "text/html": [
       "<div>\n",
       "<style scoped>\n",
       "    .dataframe tbody tr th:only-of-type {\n",
       "        vertical-align: middle;\n",
       "    }\n",
       "\n",
       "    .dataframe tbody tr th {\n",
       "        vertical-align: top;\n",
       "    }\n",
       "\n",
       "    .dataframe thead th {\n",
       "        text-align: right;\n",
       "    }\n",
       "</style>\n",
       "<table border=\"1\" class=\"dataframe\">\n",
       "  <thead>\n",
       "    <tr style=\"text-align: right;\">\n",
       "      <th></th>\n",
       "      <th>num_results</th>\n",
       "      <th>flavour</th>\n",
       "      <th>uniq_key</th>\n",
       "      <th>server_status</th>\n",
       "      <th>date</th>\n",
       "      <th>project</th>\n",
       "      <th>product</th>\n",
       "      <th>institute</th>\n",
       "      <th>model</th>\n",
       "      <th>experiment</th>\n",
       "      <th>...</th>\n",
       "      <th>grid_label</th>\n",
       "      <th>cmor_table</th>\n",
       "      <th>driving_model</th>\n",
       "      <th>format</th>\n",
       "      <th>grid_id</th>\n",
       "      <th>level_type</th>\n",
       "      <th>rcm_name</th>\n",
       "      <th>rcm_version</th>\n",
       "      <th>dataset</th>\n",
       "      <th>time</th>\n",
       "    </tr>\n",
       "    <tr>\n",
       "      <th>id</th>\n",
       "      <th></th>\n",
       "      <th></th>\n",
       "      <th></th>\n",
       "      <th></th>\n",
       "      <th></th>\n",
       "      <th></th>\n",
       "      <th></th>\n",
       "      <th></th>\n",
       "      <th></th>\n",
       "      <th></th>\n",
       "      <th></th>\n",
       "      <th></th>\n",
       "      <th></th>\n",
       "      <th></th>\n",
       "      <th></th>\n",
       "      <th></th>\n",
       "      <th></th>\n",
       "      <th></th>\n",
       "      <th></th>\n",
       "      <th></th>\n",
       "      <th></th>\n",
       "    </tr>\n",
       "  </thead>\n",
       "  <tbody>\n",
       "    <tr>\n",
       "      <th>64f6d0f1a26d23571f699c95</th>\n",
       "      <td>67893</td>\n",
       "      <td>freva</td>\n",
       "      <td>file</td>\n",
       "      <td>200</td>\n",
       "      <td>2023-09-05 06:55:45.645</td>\n",
       "      <td>NaN</td>\n",
       "      <td>NaN</td>\n",
       "      <td>NaN</td>\n",
       "      <td>NaN</td>\n",
       "      <td>era5</td>\n",
       "      <td>...</td>\n",
       "      <td>NaN</td>\n",
       "      <td>NaN</td>\n",
       "      <td>NaN</td>\n",
       "      <td>NaN</td>\n",
       "      <td>NaN</td>\n",
       "      <td>NaN</td>\n",
       "      <td>NaN</td>\n",
       "      <td>NaN</td>\n",
       "      <td>NaN</td>\n",
       "      <td>NaN</td>\n",
       "    </tr>\n",
       "    <tr>\n",
       "      <th>64f6d0f786c6c9cabe0c02e5</th>\n",
       "      <td>60789</td>\n",
       "      <td>freva</td>\n",
       "      <td>file</td>\n",
       "      <td>200</td>\n",
       "      <td>2023-09-05 06:55:51.585</td>\n",
       "      <td>NaN</td>\n",
       "      <td>NaN</td>\n",
       "      <td>NaN</td>\n",
       "      <td>NaN</td>\n",
       "      <td>era5</td>\n",
       "      <td>...</td>\n",
       "      <td>NaN</td>\n",
       "      <td>NaN</td>\n",
       "      <td>NaN</td>\n",
       "      <td>NaN</td>\n",
       "      <td>NaN</td>\n",
       "      <td>NaN</td>\n",
       "      <td>NaN</td>\n",
       "      <td>NaN</td>\n",
       "      <td>NaN</td>\n",
       "      <td>NaN</td>\n",
       "    </tr>\n",
       "    <tr>\n",
       "      <th>64f6d1016ad862821bea3540</th>\n",
       "      <td>999</td>\n",
       "      <td>freva</td>\n",
       "      <td>file</td>\n",
       "      <td>200</td>\n",
       "      <td>2023-09-05 06:56:01.045</td>\n",
       "      <td>NaN</td>\n",
       "      <td>NaN</td>\n",
       "      <td>NaN</td>\n",
       "      <td>NaN</td>\n",
       "      <td>era5</td>\n",
       "      <td>...</td>\n",
       "      <td>NaN</td>\n",
       "      <td>NaN</td>\n",
       "      <td>NaN</td>\n",
       "      <td>NaN</td>\n",
       "      <td>NaN</td>\n",
       "      <td>NaN</td>\n",
       "      <td>NaN</td>\n",
       "      <td>NaN</td>\n",
       "      <td>NaN</td>\n",
       "      <td>NaN</td>\n",
       "    </tr>\n",
       "    <tr>\n",
       "      <th>64f6d10b86c6c9cabe0c02e6</th>\n",
       "      <td>999</td>\n",
       "      <td>freva</td>\n",
       "      <td>file</td>\n",
       "      <td>200</td>\n",
       "      <td>2023-09-05 06:56:11.025</td>\n",
       "      <td>NaN</td>\n",
       "      <td>NaN</td>\n",
       "      <td>NaN</td>\n",
       "      <td>NaN</td>\n",
       "      <td>era5</td>\n",
       "      <td>...</td>\n",
       "      <td>NaN</td>\n",
       "      <td>NaN</td>\n",
       "      <td>NaN</td>\n",
       "      <td>NaN</td>\n",
       "      <td>NaN</td>\n",
       "      <td>NaN</td>\n",
       "      <td>NaN</td>\n",
       "      <td>NaN</td>\n",
       "      <td>NaN</td>\n",
       "      <td>NaN</td>\n",
       "    </tr>\n",
       "    <tr>\n",
       "      <th>64f6e6b9b2e53c7379de7123</th>\n",
       "      <td>999</td>\n",
       "      <td>cmip6</td>\n",
       "      <td>file</td>\n",
       "      <td>200</td>\n",
       "      <td>2023-09-05 08:28:41.891</td>\n",
       "      <td>NaN</td>\n",
       "      <td>NaN</td>\n",
       "      <td>NaN</td>\n",
       "      <td>NaN</td>\n",
       "      <td>era5</td>\n",
       "      <td>...</td>\n",
       "      <td>NaN</td>\n",
       "      <td>NaN</td>\n",
       "      <td>NaN</td>\n",
       "      <td>NaN</td>\n",
       "      <td>NaN</td>\n",
       "      <td>NaN</td>\n",
       "      <td>NaN</td>\n",
       "      <td>NaN</td>\n",
       "      <td>NaN</td>\n",
       "      <td>NaN</td>\n",
       "    </tr>\n",
       "    <tr>\n",
       "      <th>...</th>\n",
       "      <td>...</td>\n",
       "      <td>...</td>\n",
       "      <td>...</td>\n",
       "      <td>...</td>\n",
       "      <td>...</td>\n",
       "      <td>...</td>\n",
       "      <td>...</td>\n",
       "      <td>...</td>\n",
       "      <td>...</td>\n",
       "      <td>...</td>\n",
       "      <td>...</td>\n",
       "      <td>...</td>\n",
       "      <td>...</td>\n",
       "      <td>...</td>\n",
       "      <td>...</td>\n",
       "      <td>...</td>\n",
       "      <td>...</td>\n",
       "      <td>...</td>\n",
       "      <td>...</td>\n",
       "      <td>...</td>\n",
       "      <td>...</td>\n",
       "    </tr>\n",
       "    <tr>\n",
       "      <th>65b3818563635a294d5a6b79</th>\n",
       "      <td>53392</td>\n",
       "      <td>freva</td>\n",
       "      <td>file</td>\n",
       "      <td>200</td>\n",
       "      <td>2024-01-26 09:55:17.892</td>\n",
       "      <td>reanalysis</td>\n",
       "      <td>NaN</td>\n",
       "      <td>NaN</td>\n",
       "      <td>NaN</td>\n",
       "      <td>era5</td>\n",
       "      <td>...</td>\n",
       "      <td>NaN</td>\n",
       "      <td>NaN</td>\n",
       "      <td>NaN</td>\n",
       "      <td>NaN</td>\n",
       "      <td>NaN</td>\n",
       "      <td>NaN</td>\n",
       "      <td>NaN</td>\n",
       "      <td>NaN</td>\n",
       "      <td>NaN</td>\n",
       "      <td>NaN</td>\n",
       "    </tr>\n",
       "    <tr>\n",
       "      <th>65b3818a63635a294d5a6b7a</th>\n",
       "      <td>35552</td>\n",
       "      <td>freva</td>\n",
       "      <td>file</td>\n",
       "      <td>200</td>\n",
       "      <td>2024-01-26 09:55:22.045</td>\n",
       "      <td>reanalysis</td>\n",
       "      <td>NaN</td>\n",
       "      <td>NaN</td>\n",
       "      <td>NaN</td>\n",
       "      <td>era5</td>\n",
       "      <td>...</td>\n",
       "      <td>NaN</td>\n",
       "      <td>NaN</td>\n",
       "      <td>NaN</td>\n",
       "      <td>NaN</td>\n",
       "      <td>NaN</td>\n",
       "      <td>NaN</td>\n",
       "      <td>NaN</td>\n",
       "      <td>NaN</td>\n",
       "      <td>NaN</td>\n",
       "      <td>NaN</td>\n",
       "    </tr>\n",
       "    <tr>\n",
       "      <th>65b38401d140283777721ba0</th>\n",
       "      <td>39299</td>\n",
       "      <td>freva</td>\n",
       "      <td>file</td>\n",
       "      <td>200</td>\n",
       "      <td>2024-01-26 10:05:53.120</td>\n",
       "      <td>reanalysis</td>\n",
       "      <td>NaN</td>\n",
       "      <td>NaN</td>\n",
       "      <td>NaN</td>\n",
       "      <td>era5</td>\n",
       "      <td>...</td>\n",
       "      <td>NaN</td>\n",
       "      <td>NaN</td>\n",
       "      <td>NaN</td>\n",
       "      <td>NaN</td>\n",
       "      <td>NaN</td>\n",
       "      <td>NaN</td>\n",
       "      <td>NaN</td>\n",
       "      <td>NaN</td>\n",
       "      <td>NaN</td>\n",
       "      <td>NaN</td>\n",
       "    </tr>\n",
       "    <tr>\n",
       "      <th>65b38402d140283777721ba1</th>\n",
       "      <td>49201</td>\n",
       "      <td>freva</td>\n",
       "      <td>file</td>\n",
       "      <td>200</td>\n",
       "      <td>2024-01-26 10:05:54.298</td>\n",
       "      <td>reanalysis</td>\n",
       "      <td>NaN</td>\n",
       "      <td>NaN</td>\n",
       "      <td>NaN</td>\n",
       "      <td>era5</td>\n",
       "      <td>...</td>\n",
       "      <td>NaN</td>\n",
       "      <td>NaN</td>\n",
       "      <td>NaN</td>\n",
       "      <td>NaN</td>\n",
       "      <td>NaN</td>\n",
       "      <td>NaN</td>\n",
       "      <td>NaN</td>\n",
       "      <td>NaN</td>\n",
       "      <td>NaN</td>\n",
       "      <td>NaN</td>\n",
       "    </tr>\n",
       "    <tr>\n",
       "      <th>65b7b9d663635a294d5a6b82</th>\n",
       "      <td>69956</td>\n",
       "      <td>freva</td>\n",
       "      <td>file</td>\n",
       "      <td>200</td>\n",
       "      <td>2024-01-29 14:44:38.285</td>\n",
       "      <td>reanalysis</td>\n",
       "      <td>NaN</td>\n",
       "      <td>NaN</td>\n",
       "      <td>NaN</td>\n",
       "      <td>era5</td>\n",
       "      <td>...</td>\n",
       "      <td>NaN</td>\n",
       "      <td>NaN</td>\n",
       "      <td>NaN</td>\n",
       "      <td>NaN</td>\n",
       "      <td>NaN</td>\n",
       "      <td>NaN</td>\n",
       "      <td>NaN</td>\n",
       "      <td>NaN</td>\n",
       "      <td>NaN</td>\n",
       "      <td>NaN</td>\n",
       "    </tr>\n",
       "  </tbody>\n",
       "</table>\n",
       "<p>207 rows × 26 columns</p>\n",
       "</div>"
      ],
      "text/plain": [
       "                          num_results flavour uniq_key  server_status  \\\n",
       "id                                                                      \n",
       "64f6d0f1a26d23571f699c95        67893   freva     file            200   \n",
       "64f6d0f786c6c9cabe0c02e5        60789   freva     file            200   \n",
       "64f6d1016ad862821bea3540          999   freva     file            200   \n",
       "64f6d10b86c6c9cabe0c02e6          999   freva     file            200   \n",
       "64f6e6b9b2e53c7379de7123          999   cmip6     file            200   \n",
       "...                               ...     ...      ...            ...   \n",
       "65b3818563635a294d5a6b79        53392   freva     file            200   \n",
       "65b3818a63635a294d5a6b7a        35552   freva     file            200   \n",
       "65b38401d140283777721ba0        39299   freva     file            200   \n",
       "65b38402d140283777721ba1        49201   freva     file            200   \n",
       "65b7b9d663635a294d5a6b82        69956   freva     file            200   \n",
       "\n",
       "                                            date     project product  \\\n",
       "id                                                                     \n",
       "64f6d0f1a26d23571f699c95 2023-09-05 06:55:45.645         NaN     NaN   \n",
       "64f6d0f786c6c9cabe0c02e5 2023-09-05 06:55:51.585         NaN     NaN   \n",
       "64f6d1016ad862821bea3540 2023-09-05 06:56:01.045         NaN     NaN   \n",
       "64f6d10b86c6c9cabe0c02e6 2023-09-05 06:56:11.025         NaN     NaN   \n",
       "64f6e6b9b2e53c7379de7123 2023-09-05 08:28:41.891         NaN     NaN   \n",
       "...                                          ...         ...     ...   \n",
       "65b3818563635a294d5a6b79 2024-01-26 09:55:17.892  reanalysis     NaN   \n",
       "65b3818a63635a294d5a6b7a 2024-01-26 09:55:22.045  reanalysis     NaN   \n",
       "65b38401d140283777721ba0 2024-01-26 10:05:53.120  reanalysis     NaN   \n",
       "65b38402d140283777721ba1 2024-01-26 10:05:54.298  reanalysis     NaN   \n",
       "65b7b9d663635a294d5a6b82 2024-01-29 14:44:38.285  reanalysis     NaN   \n",
       "\n",
       "                          institute model experiment  ... grid_label  \\\n",
       "id                                                    ...              \n",
       "64f6d0f1a26d23571f699c95        NaN   NaN       era5  ...        NaN   \n",
       "64f6d0f786c6c9cabe0c02e5        NaN   NaN       era5  ...        NaN   \n",
       "64f6d1016ad862821bea3540        NaN   NaN       era5  ...        NaN   \n",
       "64f6d10b86c6c9cabe0c02e6        NaN   NaN       era5  ...        NaN   \n",
       "64f6e6b9b2e53c7379de7123        NaN   NaN       era5  ...        NaN   \n",
       "...                             ...   ...        ...  ...        ...   \n",
       "65b3818563635a294d5a6b79        NaN   NaN       era5  ...        NaN   \n",
       "65b3818a63635a294d5a6b7a        NaN   NaN       era5  ...        NaN   \n",
       "65b38401d140283777721ba0        NaN   NaN       era5  ...        NaN   \n",
       "65b38402d140283777721ba1        NaN   NaN       era5  ...        NaN   \n",
       "65b7b9d663635a294d5a6b82        NaN   NaN       era5  ...        NaN   \n",
       "\n",
       "                         cmor_table driving_model format  grid_id  level_type  \\\n",
       "id                                                                              \n",
       "64f6d0f1a26d23571f699c95        NaN           NaN    NaN      NaN         NaN   \n",
       "64f6d0f786c6c9cabe0c02e5        NaN           NaN    NaN      NaN         NaN   \n",
       "64f6d1016ad862821bea3540        NaN           NaN    NaN      NaN         NaN   \n",
       "64f6d10b86c6c9cabe0c02e6        NaN           NaN    NaN      NaN         NaN   \n",
       "64f6e6b9b2e53c7379de7123        NaN           NaN    NaN      NaN         NaN   \n",
       "...                             ...           ...    ...      ...         ...   \n",
       "65b3818563635a294d5a6b79        NaN           NaN    NaN      NaN         NaN   \n",
       "65b3818a63635a294d5a6b7a        NaN           NaN    NaN      NaN         NaN   \n",
       "65b38401d140283777721ba0        NaN           NaN    NaN      NaN         NaN   \n",
       "65b38402d140283777721ba1        NaN           NaN    NaN      NaN         NaN   \n",
       "65b7b9d663635a294d5a6b82        NaN           NaN    NaN      NaN         NaN   \n",
       "\n",
       "                          rcm_name rcm_version  dataset  time  \n",
       "id                                                             \n",
       "64f6d0f1a26d23571f699c95       NaN         NaN      NaN   NaN  \n",
       "64f6d0f786c6c9cabe0c02e5       NaN         NaN      NaN   NaN  \n",
       "64f6d1016ad862821bea3540       NaN         NaN      NaN   NaN  \n",
       "64f6d10b86c6c9cabe0c02e6       NaN         NaN      NaN   NaN  \n",
       "64f6e6b9b2e53c7379de7123       NaN         NaN      NaN   NaN  \n",
       "...                            ...         ...      ...   ...  \n",
       "65b3818563635a294d5a6b79       NaN         NaN      NaN   NaN  \n",
       "65b3818a63635a294d5a6b7a       NaN         NaN      NaN   NaN  \n",
       "65b38401d140283777721ba0       NaN         NaN      NaN   NaN  \n",
       "65b38402d140283777721ba1       NaN         NaN      NaN   NaN  \n",
       "65b7b9d663635a294d5a6b82       NaN         NaN      NaN   NaN  \n",
       "\n",
       "[207 rows x 26 columns]"
      ]
     },
     "execution_count": 4,
     "metadata": {},
     "output_type": "execute_result"
    }
   ],
   "source": [
    "df = load_csv_data(f\"{url}/api/storage/stats/example-project/databrowser\",  params={\"experiment\": \"era5\"}, headers={\"access-token\": token})\n",
    "df"
   ]
  },
  {
   "cell_type": "code",
   "execution_count": 5,
   "id": "3fbda9a5-5cb6-44e5-988d-230643c076a4",
   "metadata": {
    "editable": true,
    "slideshow": {
     "slide_type": ""
    },
    "tags": [
     "nbval-ignore-output"
    ]
   },
   "outputs": [
    {
     "data": {
      "text/html": [
       "<div>\n",
       "<style scoped>\n",
       "    .dataframe tbody tr th:only-of-type {\n",
       "        vertical-align: middle;\n",
       "    }\n",
       "\n",
       "    .dataframe tbody tr th {\n",
       "        vertical-align: top;\n",
       "    }\n",
       "\n",
       "    .dataframe thead th {\n",
       "        text-align: right;\n",
       "    }\n",
       "</style>\n",
       "<table border=\"1\" class=\"dataframe\">\n",
       "  <thead>\n",
       "    <tr style=\"text-align: right;\">\n",
       "      <th></th>\n",
       "      <th>variable</th>\n",
       "    </tr>\n",
       "    <tr>\n",
       "      <th>id</th>\n",
       "      <th></th>\n",
       "    </tr>\n",
       "  </thead>\n",
       "  <tbody>\n",
       "    <tr>\n",
       "      <th>64f6d1016ad862821bea3540</th>\n",
       "      <td>tas</td>\n",
       "    </tr>\n",
       "    <tr>\n",
       "      <th>64f6d10b86c6c9cabe0c02e6</th>\n",
       "      <td>tas</td>\n",
       "    </tr>\n",
       "    <tr>\n",
       "      <th>64f6e6b9b2e53c7379de7123</th>\n",
       "      <td>tas</td>\n",
       "    </tr>\n",
       "    <tr>\n",
       "      <th>64f6e733291e8b3ba7d8745d</th>\n",
       "      <td>tas</td>\n",
       "    </tr>\n",
       "    <tr>\n",
       "      <th>64f6e738a26d23571f699c97</th>\n",
       "      <td>tas</td>\n",
       "    </tr>\n",
       "  </tbody>\n",
       "</table>\n",
       "</div>"
      ],
      "text/plain": [
       "                         variable\n",
       "id                               \n",
       "64f6d1016ad862821bea3540      tas\n",
       "64f6d10b86c6c9cabe0c02e6      tas\n",
       "64f6e6b9b2e53c7379de7123      tas\n",
       "64f6e733291e8b3ba7d8745d      tas\n",
       "64f6e738a26d23571f699c97      tas"
      ]
     },
     "execution_count": 5,
     "metadata": {},
     "output_type": "execute_result"
    }
   ],
   "source": [
    "#Now let's check the variables\n",
    "variables = df[[\"variable\"]].dropna()\n",
    "variables.head()"
   ]
  },
  {
   "cell_type": "code",
   "execution_count": 6,
   "id": "58632389-59f6-4d6a-9aec-40e498ce2b38",
   "metadata": {
    "editable": true,
    "slideshow": {
     "slide_type": ""
    },
    "tags": [
     "nbval-ignore-output"
    ]
   },
   "outputs": [
    {
     "data": {
      "image/png": "[encoded data removed]",
      "text/plain": [
       "<Figure size 640x480 with 1 Axes>"
      ]
     },
     "metadata": {},
     "output_type": "display_data"
    }
   ],
   "source": [
    "variables[\"variable\"].value_counts().plot(kind=\"bar\", title=\"Variable count\", rot=45, xlabel=\"\", ylabel='Occurrences');"
   ]
  },
  {
   "cell_type": "markdown",
   "id": "d321b295-c629-46ef-95f1-1f20fa1b1e1a",
   "metadata": {},
   "source": [
    "## Adding data to the statistics (``POST``)\n",
    "The ``post`` method can be used to store *new* data statistics. The data that is added must follow a certain schema, especially the metadata.\n",
    "For more information on the schema please consult the ``api/storage/docs#`` endpoint of the API in your browser. Here we use the following example to store new data.\n",
    "The `post` method is the only method where you don't need an authentication."
   ]
  },
  {
   "cell_type": "code",
   "execution_count": 7,
   "id": "29fca1d2-47bf-4ecb-9258-53fea8b0b4f1",
   "metadata": {},
   "outputs": [
    {
     "data": {
      "text/plain": [
       "<Response [201]>"
      ]
     },
     "execution_count": 7,
     "metadata": {},
     "output_type": "execute_result"
    }
   ],
   "source": [
    "requests.post(f\"{url}/api/storage/stats/example-project/databrowser\",\n",
    "              json={\n",
    "                      \"metadata\": {\n",
    "                        \"num_results\": 10,\n",
    "                        \"flavour\": \"freva\",\n",
    "                        \"uniq_key\": \"file\",\n",
    "                        \"server_status\": 200,\n",
    "                        \"date\": \"string\"\n",
    "                      },\n",
    "                      \"query\": {\n",
    "                        \"project\": \"cmip6\"\n",
    "                      }\n",
    "                    }\n",
    ")"
   ]
  },
  {
   "cell_type": "markdown",
   "id": "b9f5fbef-1854-4f5a-a11f-18850987df6c",
   "metadata": {},
   "source": [
    "The schema validation is strict. If we do not follow the schema, for example ``flavour=files`` or ``num_results`` a string the serve will reject the data:"
   ]
  },
  {
   "cell_type": "code",
   "execution_count": 8,
   "id": "5c4344c0-4b37-4e6d-9d1f-363ef67150bd",
   "metadata": {},
   "outputs": [
    {
     "data": {
      "text/plain": [
       "<Response [422]>"
      ]
     },
     "execution_count": 8,
     "metadata": {},
     "output_type": "execute_result"
    }
   ],
   "source": [
    "requests.post(f\"{url}/api/storage/stats/example-project/databrowser\",\n",
    "              json={\n",
    "                      \"metadata\": {\n",
    "                        \"num_results\": \"10\",\n",
    "                        \"flavour\": \"freva\",\n",
    "                        \"uniq_key\": \"files\",\n",
    "                        \"server_status\": 200,\n",
    "                        \"date\": \"string\"\n",
    "                      },\n",
    "                      \"query\": {\n",
    "                        \"project\": \"cmip6\"\n",
    "                      }\n",
    "                    }\n",
    ")"
   ]
  },
  {
   "cell_type": "markdown",
   "id": "8a3dd4dc-e9a5-4226-a296-19a76450291e",
   "metadata": {},
   "source": [
    "## Amending statistics data (PUT)\n",
    "\n",
    "Existing data can be changed by using the ``put`` method. You can either change single keys like ``metadata.flavour`` or whole entries like ``query={\"project\": \"cmip6\"}``. You will have to figure out the data that needs to be amended. You can do that by using the ``get`` method or checking the JSON response of the ``post`` method. The key of the data that should be changed is handed over to the server as a path parameter:"
   ]
  },
  {
   "cell_type": "code",
   "execution_count": 9,
   "id": "3afbddd1-b55b-493f-aded-13c3bd6fed1e",
   "metadata": {},
   "outputs": [
    {
     "data": {
      "text/plain": [
       "<Response [200]>"
      ]
     },
     "execution_count": 9,
     "metadata": {},
     "output_type": "execute_result"
    }
   ],
   "source": [
    "requests.put(f\"{url}/api/storage/stats/example-project/databrowser/65b38402d140283777721ba1\",\n",
    "             json={\"query.product\": \"cmip\"},\n",
    "             headers={\"access-token\": token},   \n",
    ")"
   ]
  },
  {
   "cell_type": "markdown",
   "id": "d4a81161-8d65-405d-a55e-4db9e6a7bb31",
   "metadata": {},
   "source": [
    "Beware if you want to change complete entries, not only single keys, you have to make sure to follow the schema:"
   ]
  },
  {
   "cell_type": "code",
   "execution_count": 10,
   "id": "5811f914-baad-409f-8c5c-012f942e0590",
   "metadata": {},
   "outputs": [
    {
     "data": {
      "text/plain": [
       "<Response [422]>"
      ]
     },
     "execution_count": 10,
     "metadata": {},
     "output_type": "execute_result"
    }
   ],
   "source": [
    "requests.put(f\"{url}/api/storage/stats/example-project/databrowser/65b38402d140283777721ba1\",\n",
    "             json={\"metadata\": {\"num_results\": 10}},\n",
    "             headers={\"access-token\": token},   \n",
    ")"
   ]
  },
  {
   "cell_type": "markdown",
   "id": "0a714a00-cdd2-4dd8-928b-d82c6a522fbb",
   "metadata": {},
   "source": [
    "## Deleting entries (DELETE)\n",
    "You can delete entries by their key. Like in the `put` method the key is given via the path parameter:"
   ]
  },
  {
   "cell_type": "code",
   "execution_count": 11,
   "id": "4123ca19-c270-4979-a754-02440c2678f6",
   "metadata": {},
   "outputs": [
    {
     "data": {
      "text/plain": [
       "<Response [204]>"
      ]
     },
     "execution_count": 11,
     "metadata": {},
     "output_type": "execute_result"
    }
   ],
   "source": [
    "requests.delete(f\"{url}/api/storage/stats/example-project/databrowser/65b38402d140283777721ba1\",\n",
    "             headers={\"access-token\": token},   \n",
    ")"
   ]
  }
 ],
 "metadata": {
  "kernelspec": {
   "display_name": "Python 3 (ipykernel)",
   "language": "python",
   "name": "python3"
  },
  "language_info": {
   "codemirror_mode": {
    "name": "ipython",
    "version": 3
   },
   "file_extension": ".py",
   "mimetype": "text/x-python",
   "name": "python",
   "nbconvert_exporter": "python",
   "pygments_lexer": "ipython3",
   "version": "3.11.7"
  }
 },
 "nbformat": 4,
 "nbformat_minor": 5
}
